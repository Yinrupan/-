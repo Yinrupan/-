{
  "nbformat": 4,
  "nbformat_minor": 0,
  "metadata": {
    "colab": {
      "name": "ch3exercise_a108260010潘音汝",
      "provenance": []
    },
    "kernelspec": {
      "name": "python3",
      "display_name": "Python 3"
    }
  },
  "cells": [
    {
      "cell_type": "code",
      "metadata": {
        "id": "PJnE8TOFRDaE",
        "colab_type": "code",
        "colab": {
          "base_uri": "https://localhost:8080/",
          "height": 52
        },
        "outputId": "b2a222f3-ce78-4e72-f372-9553154b0690"
      },
      "source": [
        "s = input('請輸入一行英文句子?')\n",
        "s.strip(' .')\n",
        "words = s.split(' ')\n",
        "print(words[::-1])"
      ],
      "execution_count": 1,
      "outputs": [
        {
          "output_type": "stream",
          "text": [
            "請輸入一行英文句子?an apple a day keeps the doctor away\n",
            "['away', 'doctor', 'the', 'keeps', 'day', 'a', 'apple', 'an']\n"
          ],
          "name": "stdout"
        }
      ]
    },
    {
      "cell_type": "code",
      "metadata": {
        "id": "DcOnZCzURPJn",
        "colab_type": "code",
        "colab": {
          "base_uri": "https://localhost:8080/",
          "height": 70
        },
        "outputId": "d42df4bd-78a2-4bad-da3e-ff5f7b310354"
      },
      "source": [
        "全班學生 = set(['John', 'Mary', 'Tina', 'Fiona', 'Claire', 'Eva', 'Ben', 'Bill', 'Bert'\n",
        "])\n",
        "英文及格 = set(['John', 'Mary', 'Fiona', 'Claire', 'Ben', 'Bill'])\n",
        "數學及格 = set(['Mary', 'Fiona', 'Claire', 'Eva', 'Ben'])\n",
        "print('英文與數學都及格', 英文及格&數學及格)\n",
        "print('數學不及格', 全班學生-數學及格)\n",
        "print('英文及格與數學不及格', 英文及格&(全班學生-數學及格))"
      ],
      "execution_count": 2,
      "outputs": [
        {
          "output_type": "stream",
          "text": [
            "英文與數學都及格 {'Fiona', 'Claire', 'Mary', 'Ben'}\n",
            "數學不及格 {'John', 'Bill', 'Bert', 'Tina'}\n",
            "英文及格與數學不及格 {'John', 'Bill'}\n"
          ],
          "name": "stdout"
        }
      ]
    },
    {
      "cell_type": "code",
      "metadata": {
        "id": "a7tjhvNwRcLx",
        "colab_type": "code",
        "colab": {
          "base_uri": "https://localhost:8080/",
          "height": 34
        },
        "outputId": "963de8ad-a9de-42c0-9e0d-01a96ea3bf52"
      },
      "source": [
        "p1 = '紅豆生南國,春來發幾枝?願君多采擷,此物最相思。'\n",
        "p2 = '春眠不覺曉,處處聞啼鳥。夜來風雨聲,花落知多少。'\n",
        "s1 = set(p1)\n",
        "s1.remove(',')\n",
        "s1.remove('。')\n",
        "s1.remove('?')\n",
        "s2 = set(p2)\n",
        "s2.remove(',')\n",
        "s2.remove('。')\n",
        "print(s1&s2)"
      ],
      "execution_count": 3,
      "outputs": [
        {
          "output_type": "stream",
          "text": [
            "{'春', '來', '多'}\n"
          ],
          "name": "stdout"
        }
      ]
    },
    {
      "cell_type": "code",
      "metadata": {
        "id": "gApsLY_lRheH",
        "colab_type": "code",
        "colab": {
          "base_uri": "https://localhost:8080/",
          "height": 158
        },
        "outputId": "96cffffc-3c48-4549-9165-c2f947908499"
      },
      "source": [
        "mail = dict()\n",
        "name = input('請輸入姓名?')\n",
        "email = input('請輸入電子郵件?')\n",
        "mail[name]=email\n",
        "name = input('請輸入姓名?')\n",
        "email = input('請輸入電子郵件?')\n",
        "mail[name]=email\n",
        "name = input('請輸入姓名?')\n",
        "email = input('請輸入電子郵件?')\n",
        "mail[name]=email\n",
        "name = input('請輸入要查詢電子郵件的姓名?')\n",
        "print(mail[name])"
      ],
      "execution_count": 4,
      "outputs": [
        {
          "output_type": "stream",
          "text": [
            "請輸入姓名?John\n",
            "請輸入電子郵件?john@xxx.tw\n",
            "請輸入姓名?Claire\n",
            "請輸入電子郵件?claire@xxx.tw\n",
            "請輸入姓名?Fiona\n",
            "請輸入電子郵件?fiona@xxx.tw\n",
            "請輸入要查詢電子郵件的姓名?Claire\n",
            "claire@xxx.tw\n"
          ],
          "name": "stdout"
        }
      ]
    },
    {
      "cell_type": "code",
      "metadata": {
        "id": "WUKCcVmaRkse",
        "colab_type": "code",
        "colab": {}
      },
      "source": [
        ""
      ],
      "execution_count": 0,
      "outputs": []
    }
  ]
}