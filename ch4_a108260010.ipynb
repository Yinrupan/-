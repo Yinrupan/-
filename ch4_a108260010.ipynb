{
  "nbformat": 4,
  "nbformat_minor": 0,
  "metadata": {
    "colab": {
      "name": "ch4_a108260010",
      "provenance": []
    },
    "kernelspec": {
      "name": "python3",
      "display_name": "Python 3"
    }
  },
  "cells": [
    {
      "cell_type": "code",
      "metadata": {
        "id": "pViq1cVKUPgE",
        "colab_type": "code",
        "outputId": "3d987410-4ec2-4c79-c512-4b105b733d19",
        "colab": {
          "base_uri": "https://localhost:8080/",
          "height": 50
        }
      },
      "source": [
        "score=int(input('請輸入一個成績?'))\n",
        "if score>=60:\n",
        "  print('很好，請繼續保持下去')"
      ],
      "execution_count": 0,
      "outputs": [
        {
          "output_type": "stream",
          "text": [
            "請輸入一個成績?60\n",
            "很好，請繼續保持下去\n"
          ],
          "name": "stdout"
        }
      ]
    },
    {
      "cell_type": "code",
      "metadata": {
        "id": "Zv7vfBVfVAVR",
        "colab_type": "code",
        "outputId": "bcc0c66b-b58d-4fae-eaad-af575fde3841",
        "colab": {
          "base_uri": "https://localhost:8080/",
          "height": 50
        }
      },
      "source": [
        "cost=int(input('請輸入購買金額?'))\n",
        "if cost>=2000:\n",
        "  print(cost*0.9)\n",
        "else:\n",
        "  print(cost)  "
      ],
      "execution_count": 0,
      "outputs": [
        {
          "output_type": "stream",
          "text": [
            "請輸入購買金額?2000\n",
            "1800.0\n"
          ],
          "name": "stdout"
        }
      ]
    },
    {
      "cell_type": "code",
      "metadata": {
        "id": "iSaV9SKkVlki",
        "colab_type": "code",
        "outputId": "a6c1c1dd-8df8-4db9-8b79-ff10da1f5de5",
        "colab": {
          "base_uri": "https://localhost:8080/",
          "height": 50
        }
      },
      "source": [
        "num=int(input('請輸入一個整數?'))\n",
        "if num%2:\n",
        "  print(num,'為奇數')\n",
        "else:\n",
        "  print(num,'為偶數')  "
      ],
      "execution_count": 0,
      "outputs": [
        {
          "output_type": "stream",
          "text": [
            "請輸入一個整數?13\n",
            "13 為奇數\n"
          ],
          "name": "stdout"
        }
      ]
    },
    {
      "cell_type": "code",
      "metadata": {
        "id": "Rw07-rE6WNi7",
        "colab_type": "code",
        "outputId": "16634a6e-bfa8-47c8-8cd8-7b8a991a3b35",
        "colab": {
          "base_uri": "https://localhost:8080/",
          "height": 84
        }
      },
      "source": [
        "a=int(input('請輸入三角形邊長a長度為?'))\n",
        "b=int(input('請輸入三角形邊長b長度為?'))\n",
        "c=int(input('請輸入三角形邊長c長度為?'))\n",
        "if(a<b+c)and(b>a+c)and(c<a+b):\n",
        "  print('可構成三角形')\n",
        "else:\n",
        "  print ('無法構成三角形') \n"
      ],
      "execution_count": 0,
      "outputs": [
        {
          "output_type": "stream",
          "text": [
            "請輸入三角形邊長a長度為?3\n",
            "請輸入三角形邊長b長度為?4\n",
            "請輸入三角形邊長c長度為?5\n",
            "無法構成三角形\n"
          ],
          "name": "stdout"
        }
      ]
    },
    {
      "cell_type": "code",
      "metadata": {
        "id": "9qYY8hCxXJAu",
        "colab_type": "code",
        "outputId": "f295aaf1-9780-4056-811d-f90c5b17cf15",
        "colab": {
          "base_uri": "https://localhost:8080/",
          "height": 50
        }
      },
      "source": [
        "score=int(input('請輸入一個成績?'))\n",
        "if score>=80:\n",
        "  print('非常好')\n",
        "elif score>=60:\n",
        "  print('不錯喔')\n",
        "else:\n",
        "  print('要加油')    "
      ],
      "execution_count": 0,
      "outputs": [
        {
          "output_type": "stream",
          "text": [
            "請輸入一個成績?60\n",
            "不錯喔\n"
          ],
          "name": "stdout"
        }
      ]
    },
    {
      "cell_type": "code",
      "metadata": {
        "id": "QN2Cxe3lX3Cs",
        "colab_type": "code",
        "colab": {
          "base_uri": "https://localhost:8080/",
          "height": 52
        },
        "outputId": "676d9414-6615-4734-ad2a-106480917d1e"
      },
      "source": [
        "w=float(input('請輸入物品重?'))\n",
        "if w<=5:\n",
        "  print('所需郵資為50元')\n",
        "elif w<=10:\n",
        "  print('所需郵資為70元')\n",
        "elif w<=15:\n",
        "  print('所需郵資為90元') \n",
        "elif w<=20:\n",
        "  print('所需郵資為110元')\n",
        "else:\n",
        "  print('超過20公斤無法寄送')  \n",
        "\n"
      ],
      "execution_count": 10,
      "outputs": [
        {
          "output_type": "stream",
          "text": [
            "請輸入物品重?10\n",
            "所需郵資為70元\n"
          ],
          "name": "stdout"
        }
      ]
    },
    {
      "cell_type": "code",
      "metadata": {
        "id": "nzi4a05JacCK",
        "colab_type": "code",
        "colab": {
          "base_uri": "https://localhost:8080/",
          "height": 88
        },
        "outputId": "523e5b9e-8ef7-435c-8787-ef900c2953a6"
      },
      "source": [
        "w=float(input('請輸入體重(KG)?'))\n",
        "h=float(input('請輸入身高(M)?'))\n",
        "bmi=w/(h*h)\n",
        "print('BMI為',bmi)\n",
        "if bmi<=18:\n",
        "  print('體重過輕')\n",
        "elif bmi<=24:\n",
        "  print('體重正常')\n",
        "elif bmi<=27:\n",
        "  print('體重過重')\n",
        "else:  \n",
        "  print('體重肥胖')"
      ],
      "execution_count": 13,
      "outputs": [
        {
          "output_type": "stream",
          "text": [
            "請輸入體重(KG)?75\n",
            "請輸入身高(M)?1.7\n",
            "BMI為 25.95155709342561\n",
            "體重過重\n"
          ],
          "name": "stdout"
        }
      ]
    },
    {
      "cell_type": "code",
      "metadata": {
        "id": "TRjjYEtGc7RE",
        "colab_type": "code",
        "colab": {
          "base_uri": "https://localhost:8080/",
          "height": 70
        },
        "outputId": "7d4b30f3-1174-4756-d516-973c2017ba1e"
      },
      "source": [
        "x=float(input('請輸入X座標?'))\n",
        "y=float(input('請輸入Y座標?'))\n",
        "if x>0:\n",
        "  if y>0:\n",
        "    print('第一象限')\n",
        "  else:\n",
        "    print('第四象限')\n",
        "else:\n",
        "  if y>0:\n",
        "    print('第二象限')\n",
        "  else:\n",
        "    print('第三象限')\n",
        "       \n"
      ],
      "execution_count": 15,
      "outputs": [
        {
          "output_type": "stream",
          "text": [
            "請輸入X座標?-1\n",
            "請輸入Y座標?-2\n",
            "第三象限\n"
          ],
          "name": "stdout"
        }
      ]
    },
    {
      "cell_type": "code",
      "metadata": {
        "id": "1qepd3jee7dV",
        "colab_type": "code",
        "colab": {
          "base_uri": "https://localhost:8080/",
          "height": 35
        },
        "outputId": "e93559ee-d6fc-4e98-ed80-38c1f82b9716"
      },
      "source": [
        "a=(1,2,3,4)\n",
        "if 1 in a:\n",
        "  print('數字1在tuple a 中')\n",
        "else:\n",
        "  print('數字1不在tuple a 中')  "
      ],
      "execution_count": 16,
      "outputs": [
        {
          "output_type": "stream",
          "text": [
            "數字1在tuple a 中\n"
          ],
          "name": "stdout"
        }
      ]
    },
    {
      "cell_type": "code",
      "metadata": {
        "id": "gjiDjTqpf3ZD",
        "colab_type": "code",
        "colab": {
          "base_uri": "https://localhost:8080/",
          "height": 35
        },
        "outputId": "eadf91a4-bf82-4746-cc8b-f349bb3bd738"
      },
      "source": [
        "a=list('abcdefghijklmnopqrstuvwxyz')\n",
        "if 'q' in a:\n",
        "  print('q在串列a中')\n",
        "else:\n",
        "  print('q不在串列a中')  \n"
      ],
      "execution_count": 17,
      "outputs": [
        {
          "output_type": "stream",
          "text": [
            "q在串列a中\n"
          ],
          "name": "stdout"
        }
      ]
    },
    {
      "cell_type": "code",
      "metadata": {
        "id": "5jFUQxcUgmcA",
        "colab_type": "code",
        "colab": {
          "base_uri": "https://localhost:8080/",
          "height": 35
        },
        "outputId": "3a07cce9-3b0c-4087-abb7-183bb6e412b1"
      },
      "source": [
        "lang1={'早安':'Good Morning','謝謝':'Thank You'}\n",
        "if '謝謝' in lang1:\n",
        "  print('謝謝的英文為',lang1['謝謝'])\n",
        "else:\n",
        "  print('查不到謝謝的英文')  \n"
      ],
      "execution_count": 20,
      "outputs": [
        {
          "output_type": "stream",
          "text": [
            "謝謝的英文為 Thank You\n"
          ],
          "name": "stdout"
        }
      ]
    },
    {
      "cell_type": "code",
      "metadata": {
        "id": "BgOD9OvVhyzv",
        "colab_type": "code",
        "colab": {
          "base_uri": "https://localhost:8080/",
          "height": 35
        },
        "outputId": "335c381a-7da1-41e2-ba42-c1cf97f07644"
      },
      "source": [
        "a=set('tiger')\n",
        "if 't' in a:\n",
        "  print('t在集合a內')\n",
        "else:\n",
        "  print('t不再集合a內')  "
      ],
      "execution_count": 21,
      "outputs": [
        {
          "output_type": "stream",
          "text": [
            "t在集合a內\n"
          ],
          "name": "stdout"
        }
      ]
    }
  ]
}